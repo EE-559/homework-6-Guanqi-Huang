{
  "nbformat": 4,
  "nbformat_minor": 0,
  "metadata": {
    "colab": {
      "provenance": []
    },
    "kernelspec": {
      "name": "python3",
      "display_name": "Python 3"
    },
    "language_info": {
      "name": "python"
    }
  },
  "cells": [
    {
      "cell_type": "code",
      "source": [
        "import zipfile\n",
        "import pandas as pd\n",
        "import numpy as np\n",
        "import os\n",
        "from sklearn.svm import SVC\n",
        "from sklearn.preprocessing import LabelEncoder\n",
        "from sklearn.model_selection import train_test_split\n",
        "from sklearn.metrics import accuracy_score, hamming_loss\n",
        "from sklearn.model_selection import GridSearchCV\n",
        "from sklearn.preprocessing import StandardScaler\n",
        "from sklearn.svm import LinearSVC\n",
        "from imblearn.over_sampling import SMOTE"
      ],
      "metadata": {
        "id": "-XDRPiA9HBMe"
      },
      "execution_count": null,
      "outputs": []
    },
    {
      "cell_type": "code",
      "source": [
        "# Load the data\n",
        "# zip_path = '/content/sample_data/Anuran Calls (MFCCs).zip'\n",
        "# extract_dir = '/content/sample_data/anuran_calls'\n",
        "zip_path = 'Anuran Calls (MFCCs).zip'\n",
        "extract_dir = 'anuran_calls'\n",
        "os.makedirs(extract_dir, exist_ok=True)\n",
        "with zipfile.ZipFile(zip_path, 'r') as zip_ref:\n",
        "    zip_ref.extractall(extract_dir)\n",
        "csv_file = None\n",
        "for file in os.listdir(extract_dir):\n",
        "    if file.endswith('.csv'):\n",
        "        csv_file = os.path.join(extract_dir, file)\n",
        "        break\n",
        "data = pd.read_csv(csv_file)"
      ],
      "metadata": {
        "id": "3PoDs4Z4mnO5"
      },
      "execution_count": null,
      "outputs": []
    },
    {
      "cell_type": "code",
      "execution_count": 7,
      "metadata": {
        "colab": {
          "base_uri": "https://localhost:8080/"
        },
        "id": "Bi9zwajEjWhE",
        "outputId": "552cda3e-5bf2-43ba-b7c6-3eb776db6fe1"
      },
      "outputs": [
        {
          "output_type": "stream",
          "name": "stdout",
          "text": [
            "Loaded file: /content/sample_data/anuran_calls/Frogs_MFCCs.csv\n",
            "=== Evaluation Metrics ===\n",
            "Exact Match Ratio: 0.9625\n",
            "Hamming Loss: 0.0139\n",
            "Hamming Score: 0.9861\n"
          ]
        }
      ],
      "source": [
        "# i)Research exact match and hamming score/ loss methods for evaluating multi-\n",
        "# label classification and use them in evaluating the classifiers in this problem\n",
        "\n",
        "# Select features and labels\n",
        "X = data.select_dtypes(include=[np.number])\n",
        "Y_family = data['Family']\n",
        "Y_genus = data['Genus']\n",
        "Y_species = data['Species']\n",
        "enc_family = LabelEncoder()\n",
        "enc_genus = LabelEncoder()\n",
        "enc_species = LabelEncoder()\n",
        "Y_family_encoded = enc_family.fit_transform(Y_family)\n",
        "Y_genus_encoded = enc_genus.fit_transform(Y_genus)\n",
        "Y_species_encoded = enc_species.fit_transform(Y_species)\n",
        "# Spilt the data int train and test\n",
        "X_train, X_test, y_family_train, y_family_test, y_genus_train, y_genus_test, y_species_train, y_species_test = train_test_split(\n",
        "    X, Y_family_encoded, Y_genus_encoded, Y_species_encoded, test_size=0.2, random_state=42\n",
        ")\n",
        "# Train the SVM classifier\n",
        "clf_family = SVC(kernel='linear', probability=True)\n",
        "clf_genus = SVC(kernel='linear', probability=True)\n",
        "clf_species = SVC(kernel='linear', probability=True)\n",
        "clf_family.fit(X_train, y_family_train)\n",
        "clf_genus.fit(X_train, y_genus_train)\n",
        "clf_species.fit(X_train, y_species_train)\n",
        "# Prediction\n",
        "y_family_pred = clf_family.predict(X_test)\n",
        "y_genus_pred = clf_genus.predict(X_test)\n",
        "y_species_pred = clf_species.predict(X_test)\n",
        "y_true = np.vstack([y_family_test, y_genus_test, y_species_test]).T\n",
        "y_pred = np.vstack([y_family_pred, y_genus_pred, y_species_pred]).T\n",
        "# Evalutate and report the  results\n",
        "exact_match = np.mean(np.all(y_true == y_pred, axis=1))\n",
        "hamming = np.mean(y_true !=y_pred)\n",
        "hamming_score = 1 -hamming\n",
        "print(f\"Exact Match Rate: {exact_match:.2f}\")\n",
        "print(f\"Hamming Loss: {hamming:.2f}\")\n",
        "print(f\"Hamming Score: {hamming_score:.2f}\")"
      ]
    },
    {
      "cell_type": "code",
      "source": [
        "# i)Train a SVM for each of the labels, using Gaussian kernels and one versus all\n",
        "# classifiers. Determine the weight of the SVM penalty and the width of the\n",
        "# Gaussian Kernel using 10 fold cross validation.\n",
        "\n",
        "# Define the grid\n",
        "param_grid = {'C': [0.1, 1, 10, 100],'gamma': [0.01, 0.1, 1, 10],'kernel': ['rbf']}\n",
        "# Determine the weight of the SVM penalty and the width of the\n",
        "# Gaussian Kernel using 10 fold cross validation\n",
        "svc = SVC()\n",
        "grid_search_family = GridSearchCV(svc, param_grid, cv=10, n_jobs=-1)\n",
        "grid_search_genus = GridSearchCV(svc, param_grid, cv=10, n_jobs=-1)\n",
        "grid_search_species = GridSearchCV(svc, param_grid, cv=10, n_jobs=-1)\n",
        "# Fit the model with train data\n",
        "grid_search_family.fit(X_train, y_family_train)\n",
        "grid_search_genus.fit(X_train, y_genus_train)\n",
        "grid_search_species.fit(X_train, y_species_train)\n",
        "# Retrieve the best model\n",
        "clf_family = grid_search_family.best_estimator_\n",
        "clf_genus = grid_search_genus.best_estimator_\n",
        "clf_species = grid_search_species.best_estimator_\n",
        "# Predict the test set label\n",
        "y_family_pred = clf_family.predict(X_test)\n",
        "y_genus_pred = clf_genus.predict(X_test)\n",
        "y_species_pred = clf_species.predict(X_test)\n",
        "y_true = np.vstack([y_family_test, y_genus_test, y_species_test]).T\n",
        "y_pred = np.vstack([y_family_pred, y_genus_pred, y_species_pred]).T\n",
        "# Report the  results\n",
        "exact_match = np.mean(np.all(y_true == y_pred, axis=1))\n",
        "hamming = np.mean(y_true != y_pred)\n",
        "hamming_score = 1 - hamming\n",
        "print(f\"Exact Match Rate: {exact_match:.2f}\")\n",
        "print(f\"Hamming Loss: {hamming:.2f}\")\n",
        "print(f\"Hamming Score: {hamming_score:.2f}\")"
      ],
      "metadata": {
        "colab": {
          "base_uri": "https://localhost:8080/"
        },
        "id": "9VRTrJAPk_TM",
        "outputId": "b4632f5e-8935-4d6f-9016-55173d6627df"
      },
      "execution_count": 8,
      "outputs": [
        {
          "output_type": "stream",
          "name": "stdout",
          "text": [
            "Family best params: {'C': 1, 'gamma': 0.1, 'kernel': 'rbf'}\n",
            "Genus best params: {'C': 1, 'gamma': 0.1, 'kernel': 'rbf'}\n",
            "Species best params: {'C': 1, 'gamma': 0.1, 'kernel': 'rbf'}\n",
            "=== Evaluation Metrics ===\n",
            "Exact Match Ratio: 0.9993\n",
            "Hamming Loss: 0.0007\n",
            "Hamming Score: 0.9993\n"
          ]
        }
      ]
    },
    {
      "cell_type": "code",
      "source": [
        "# iii) Repeat 6(b)ii with L1-penalized SVMs.R\n",
        "# Normalization\n",
        "scaler = StandardScaler()\n",
        "X_scaled = scaler.fit_transform(X)\n",
        "# Define the grid\n",
        "param_grid = {'C': [0.01, 0.1, 1, 10, 100],'penalty': ['l1'],'dual': [False]}\n",
        "# Determine the weight of the SVM penalty and the width of the\n",
        "# Gaussian Kernel using 10 fold cross validation\n",
        "svc_l1 = LinearSVC(max_iter=5000)\n",
        "grid_search_family = GridSearchCV(svc_l1, param_grid, cv=10, n_jobs=-1)\n",
        "grid_search_genus = GridSearchCV(svc_l1, param_grid, cv=10, n_jobs=-1)\n",
        "grid_search_species = GridSearchCV(svc_l1, param_grid, cv=10, n_jobs=-1)\n",
        "# Fit the model with train data\n",
        "grid_search_family.fit(X_train, y_family_train)\n",
        "grid_search_genus.fit(X_train, y_genus_train)\n",
        "grid_search_species.fit(X_train, y_species_train)\n",
        "# Retrieve the best model\n",
        "clf_family = grid_search_family.best_estimator_\n",
        "clf_genus = grid_search_genus.best_estimator_\n",
        "clf_species = grid_search_species.best_estimator_\n",
        "# Predict the test set label\n",
        "y_family_pred = clf_family.predict(X_test)\n",
        "y_genus_pred = clf_genus.predict(X_test)\n",
        "y_species_pred = clf_species.predict(X_test)\n",
        "y_true = np.vstack([y_family_test, y_genus_test, y_species_test]).T\n",
        "y_pred = np.vstack([y_family_pred, y_genus_pred, y_species_pred]).T\n",
        "# Evaluate and report the results\n",
        "exact_match = np.mean(np.all(y_true == y_pred, axis=1))\n",
        "hamming = np.mean(y_true != y_pred)\n",
        "hamming_score = 1 - hamming\n",
        "print(f\"Exact Match Rate: {exact_match:.2f}\")\n",
        "print(f\"Hamming Loss: {hamming:.2f}\")\n",
        "print(f\"Hamming Score: {hamming_score:.2f}\")"
      ],
      "metadata": {
        "colab": {
          "base_uri": "https://localhost:8080/"
        },
        "id": "Rna3luF6mwct",
        "outputId": "7d62240e-3475-45ee-f0fa-17f6a03a283d"
      },
      "execution_count": 10,
      "outputs": [
        {
          "output_type": "stream",
          "name": "stderr",
          "text": [
            "/usr/local/lib/python3.11/dist-packages/sklearn/svm/_base.py:1249: ConvergenceWarning: Liblinear failed to converge, increase the number of iterations.\n",
            "  warnings.warn(\n",
            "/usr/local/lib/python3.11/dist-packages/sklearn/svm/_base.py:1249: ConvergenceWarning: Liblinear failed to converge, increase the number of iterations.\n",
            "  warnings.warn(\n"
          ]
        },
        {
          "output_type": "stream",
          "name": "stdout",
          "text": [
            "=== Evaluation Metrics (L1-penalized SVMs) ===\n",
            "Exact Match Ratio: 0.9521\n",
            "Hamming Loss: 0.0220\n",
            "Hamming Score: 0.9780\n"
          ]
        },
        {
          "output_type": "stream",
          "name": "stderr",
          "text": [
            "/usr/local/lib/python3.11/dist-packages/sklearn/svm/_base.py:1249: ConvergenceWarning: Liblinear failed to converge, increase the number of iterations.\n",
            "  warnings.warn(\n"
          ]
        }
      ]
    },
    {
      "cell_type": "code",
      "source": [
        "# iv) Repeat 6(b)iii by using SMOTE or any other method you know to remedy\n",
        "# class imbalance. Report your conclusions about the classifiers you trained\n",
        "# Normalization\n",
        "scaler = StandardScaler()\n",
        "X_scaled = scaler.fit_transform(X)\n",
        "# Spilt the data int train and test set\n",
        "X_train, X_test, y_family_train, y_family_test, y_genus_train, y_genus_test, y_species_train, y_species_test = train_test_split(\n",
        "    X_scaled, Y_family_encoded, Y_genus_encoded, Y_species_encoded, test_size = 0.2, random_state = 42\n",
        ")\n",
        "# Apply SMOTE\n",
        "smote = SMOTE(random_state=42)\n",
        "X_family_smote, y_family_smote = smote.fit_resample(X_train, y_family_train)\n",
        "X_genus_smote, y_genus_smote = smote.fit_resample(X_train, y_genus_train)\n",
        "X_species_smote, y_species_smote = smote.fit_resample(X_train, y_species_train)\n",
        "# Set up the L1-penalized LinearSVC and grid\n",
        "svc_l1 = LinearSVC(penalty='l1', dual=False, max_iter=5000)\n",
        "# Do 10-fold Grid Search Cross-Validation\n",
        "grid_search_family = GridSearchCV(svc_l1, {'C': [0.01, 0.1, 1, 10, 100]}, cv=10, n_jobs=-1)\n",
        "grid_search_family.fit(X_family_smote, y_family_smote)\n",
        "clf_family = grid_search_family.best_estimator_\n",
        "grid_search_genus = GridSearchCV(svc_l1, {'C': [0.01, 0.1, 1, 10, 100]}, cv=10, n_jobs=-1)\n",
        "grid_search_genus.fit(X_genus_smote, y_genus_smote)\n",
        "clf_genus = grid_search_genus.best_estimator_\n",
        "grid_search_species = GridSearchCV(svc_l1, {'C': [0.01, 0.1, 1, 10, 100]}, cv=10, n_jobs=-1)\n",
        "grid_search_species.fit(X_species_smote, y_species_smote)\n",
        "clf_species = grid_search_species.best_estimator_\n",
        "# Predict\n",
        "y_family_pred = clf_family.predict(X_test)\n",
        "y_genus_pred = clf_genus.predict(X_test)\n",
        "y_species_pred = clf_species.predict(X_test)\n",
        "y_true = np.vstack([y_family_test, y_genus_test, y_species_test]).T\n",
        "y_pred = np.vstack([y_family_pred, y_genus_pred, y_species_pred]).T\n",
        "# Evaluate and report the  results\n",
        "exact_match = np.mean(np.all(y_true == y_pred, axis=1))\n",
        "hamming = np.mean(y_true != y_pred)\n",
        "hamming_score = 1 - hamming\n",
        "print(f\"Exact Match Rate: {exact_match:.4f}\")\n",
        "print(f\"Hamming Loss: {hamming:.4f}\")\n",
        "print(f\"Hamming Score: {hamming_score:.4f}\")"
      ],
      "metadata": {
        "colab": {
          "base_uri": "https://localhost:8080/"
        },
        "id": "zNyvCCE7nrew",
        "outputId": "1e248343-eb30-4622-86b8-918b3e346fa3"
      },
      "execution_count": 11,
      "outputs": [
        {
          "output_type": "stream",
          "name": "stderr",
          "text": [
            "/usr/local/lib/python3.11/dist-packages/sklearn/svm/_base.py:1249: ConvergenceWarning: Liblinear failed to converge, increase the number of iterations.\n",
            "  warnings.warn(\n",
            "/usr/local/lib/python3.11/dist-packages/sklearn/svm/_base.py:1249: ConvergenceWarning: Liblinear failed to converge, increase the number of iterations.\n",
            "  warnings.warn(\n"
          ]
        },
        {
          "output_type": "stream",
          "name": "stdout",
          "text": [
            "=== Evaluation Metrics (L1-penalized SVMs + SMOTE) ===\n",
            "Exact Match Ratio: 0.9423\n",
            "Hamming Loss: 0.0269\n",
            "Hamming Score: 0.9731\n"
          ]
        },
        {
          "output_type": "stream",
          "name": "stderr",
          "text": [
            "/usr/local/lib/python3.11/dist-packages/sklearn/svm/_base.py:1249: ConvergenceWarning: Liblinear failed to converge, increase the number of iterations.\n",
            "  warnings.warn(\n"
          ]
        }
      ]
    }
  ]
}